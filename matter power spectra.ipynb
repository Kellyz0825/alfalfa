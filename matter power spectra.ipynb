{
 "cells": [
  {
   "cell_type": "code",
   "execution_count": 1,
   "id": "7d76e043",
   "metadata": {},
   "outputs": [],
   "source": [
    "#import the packages\n",
    "\n",
    "from classy import Class\n",
    "import numpy as np\n",
    "import scipy\n",
    "from numpy import heaviside\n",
    "import matplotlib.pylab as plt\n",
    "from colossus.cosmology import cosmology\n",
    "from colossus.lss import mass_function\n",
    "import scipy.integrate as integrate\n",
    "from colossus.lss import bias\n",
    "from scipy import special\n",
    "from scipy.special import gamma\n",
    "from astropy import units as u\n",
    "from astropy.cosmology import Planck15 as cs"
   ]
  },
  {
   "cell_type": "code",
   "execution_count": 2,
   "id": "99ca26be",
   "metadata": {},
   "outputs": [],
   "source": [
    "'''\n",
    "The Fourier transform of radial distribution of satellite galaxies in a halo (NFW profile) was adopted from the paper\n",
    "Scoccimarro 2001 (equation 10 and 11) with a normalization such that as k -> 0, u_sat -> 1.\n",
    "\n",
    "'''\n",
    "\n",
    def u_sat(k,M,z,r_max): # units of the inputs are k=[Mpc^-1], M=[solar mass], r_max=[Mpc]\n",
    "    h=0.7\n",
    "    delta_vir=340 #define the cosmology\n",
    "    m=M*h #set the M_vir=M, convert the unit from solar mass to solar mass * h^-1\n",
    "    \n",
    "    R=(m/(1.16e12*0.3))**(1/3)\n",
    "    \n",
    "    #constants\n",
    "    R_star=3.135\n",
    "    m_star=1.07e13\n",
    "    \n",
    "    \n",
    "    c=9*(m/m_star)**(-0.13)\n",
    "    y=R/R_star\n",
    "    k_hat=(k/h)*R_star*(delta_vir)**(-1/3)\n",
    "    kappa=k_hat*y/c\n",
    "    \n",
    "    si_c,ci_c=special.sici(kappa*(1+c))\n",
    "    si_k,ci_k=special.sici(kappa)\n",
    "\n",
    "    #compute the actual density\n",
    "    x=np.sin(kappa)*(si_c-si_k)+np.cos(kappa)*(ci_c-ci_k)-np.sin(kappa*c)/(kappa*(1+c))\n",
    "    f=1/(np.log(1+c)-c/(1+c))\n",
    "    \n",
    "    return f*x*heaviside(r_max*h-R,1)"
   ]
  },
  {
   "cell_type": "code",
   "execution_count": 3,
   "id": "985268d4",
   "metadata": {},
   "outputs": [],
   "source": [
    "#estimate mean number of central and satellite galaxies using HOD functions\n",
    "\n",
    "def hod(M,M_min,M_1,alpha): # units of all Ms are solar mass\n",
    "    \n",
    "    #define some constants according to Ando et al.\n",
    "    sd_log_M=0.15\n",
    "    M_0=M_minsaw9\n",
    "    \n",
    "    N_cen=1/2*(1+special.erf((np.log10(M)-np.log10(M_min))/sd_log_M)) # mean number of central galaxies\n",
    "    \n",
    "    N_sat=((M-M_0)/M_1)**alpha*heaviside(M-M_0,1) # mean number of satellite galaxies\n",
    "    \n",
    "    return N_cen,N_sat"
   ]
  },
  {
   "cell_type": "code",
   "execution_count": 4,
   "id": "16b28568",
   "metadata": {},
   "outputs": [],
   "source": [
    "#estimate the halo mass function using the python package Colossus\n",
    "\n",
    "def dn_dm(M,z):\n",
    "    '''\n",
    "    The orinigal function mass_function.massFunction receives mass in unit of h^-1*solar mass, and returns the value\n",
    "    of dn/dlnM, in unit of (Mpc/h)^-3. We can get the value of dn/dM by multiplying dlnM/dM=1/M to dn/dlnM, and\n",
    "    convert the final value to unit of Mpc^-3\n",
    "    \n",
    "    '''\n",
    "    h=0.7\n",
    "    return (mass_function.massFunction(M*h, z, mdef = 'vir', model = 'tinker08', q_out = 'dndlnM')*1/(M*h))*(h**4)"
   ]
  },
  {
   "cell_type": "code",
   "execution_count": 5,
   "id": "bb9f7096",
   "metadata": {},
   "outputs": [],
   "source": [
    "#compute the mean number of density of galaxies\n",
    "\n",
    "def n_g(z,M_i,M_f,M_min,M_1,alpha):\n",
    "    def n_g_int(M):\n",
    "        cosmology.setCosmology('planck15')\n",
    "        return dn_dm(M,z)*(hod(M,M_min,M_1,alpha)[0]+hod(M,M_min,M_1,alpha)[1])\n",
    "    return integrate.quad(n_g_int,M_i,M_f)[0]"
   ]
  },
  {
   "cell_type": "code",
   "execution_count": 6,
   "id": "3e14f620",
   "metadata": {},
   "outputs": [],
   "source": [
    "#compute the scale-dependent galaxy bias\n",
    "\n",
    "def b_g(z,k,M_i,M_f,M_min,M_1,alpha,r_max):\n",
    "    \n",
    "    h=0.7\n",
    "    def b_g_integration(M):\n",
    "        #get the variables for integration\n",
    "        dndm=dn_dm(M,z)\n",
    "        n_cen=hod(M,M_min,M_1,alpha)[0]\n",
    "        n_sat=hod(M,M_min,M_1,alpha)[1]\n",
    "        u=u_sat(k,M,z,r_max)\n",
    "        #use the function from the package Colossus to compute the value of linear halo bias of Tinker et al. 2010\n",
    "        b_1=bias.haloBias(M*h, z,mdef='vir',model='tinker10')\n",
    "        return dndm*(n_cen+n_sat*u)*b_1\n",
    "    \n",
    "    b_g=(1/n_g(z,M_i,M_f,M_min,M_1,alpha))*(integrate.quad(b_g_integration,M_i,M_f)[0])\n",
    "        \n",
    "    return b_g"
   ]
  },
  {
   "cell_type": "code",
   "execution_count": 13,
   "id": "9e32cb67",
   "metadata": {},
   "outputs": [],
   "source": [
   Omega_b = 0.05
Omega_m = 0.3
Omega_cdm = Omega_m - Omega_b
h = 0.7
A_s = 2.1e-9
n_s = 0.96

k_max = 50 #UNITS: 1/Mpc

params = {
             'output':'mPk',
             'non linear':'halofit',
             'Omega_b':Omega_b,
             'Omega_cdm':Omega_cdm,
             'h':h,
             'A_s':A_s,
             'n_s':n_s,
             'P_k_max_1/Mpc':k_max,
             'z_max_pk':10
}

#Initialize the cosmology for linear matter power spectra computation
cosmo = Class()
cosmo.set(params)
cosmo.compute()

def P_g_2h_mod(z,k,M_i,M_f,M_min,M_1,alpha,r_max):
    
    #return the P_g 2 halo terms in the unit of [Mpc^3]
    lin=cosmo.pk_lin(k, z)

    h=0.7
    sd_log_M=0.15
    M_0=M_min
    cosmology.setCosmology('planck15')
    def b_g_integration(M):
        #get the variables for integration
        dndm=(mass_function.massFunction(M*h, z, mdef = 'vir', model = 'tinker08', q_out = 'dndlnM')*1/(M*h))*(h**4)
    
        n_cen=1/2*(1+special.erf((np.log10(M)-np.log10(M_min))/sd_log_M))
        n_sat=((M-M_0)/M_1)**alpha*heaviside(M-M_0,1)
        
        delta_vir=340 #define the cosmology
        m=M*h #set the M_vir=M, convert the unit from solar mass to solar mass * h^-1
    
        R=(m/(1.16e12*0.3))**(1/3)
    
    #constants
        R_star=3.135
        m_star=1.07e13
    
    
        c=9*(m/m_star)**(-0.13)
        y=R/R_star
        k_hat=(k/h)*R_star*(delta_vir)**(-1/3)
        kappa=k_hat*y/c
    
        si_c,ci_c=special.sici(kappa*(1+c))
        si_k,ci_k=special.sici(kappa)

    #compute the actual density
        x=np.sin(kappa)*(si_c-si_k)+np.cos(kappa)*(ci_c-ci_k)-np.sin(kappa*c)/(kappa*(1+c))
        f=1/(np.log(1+c)-c/(1+c))
        u=f*x*heaviside(r_max*h-R,1)
        
        #use the function from the package Colossus to compute the value of linear halo bias of Tinker et al. 2010
        b_1=bias.haloBias(M*h, z,mdef='vir',model='tinker10')
        return dndm*(n_cen+n_sat*u)*b_1
    
    def n_g_int(M):
        dndm=(mass_function.massFunction(M*h, z, mdef = 'vir', model = 'tinker08', q_out = 'dndlnM')*1/(M*h))*(h**4)
        n_cen=1/2*(1+special.erf((np.log10(M)-np.log10(M_min))/sd_log_M))
        n_sat=((M-M_0)/M_1)**alpha*heaviside(M-M_0,1)
        return dndm*(n_cen+n_sat)

    ng=integrate.quad(n_g_int,M_i,M_f)[0]
    
#     x=np.linspace(M_i,M_f,20)
#     b_g_int=np.array([b_g_integration(ki) for ki in x])
#     bg=integrate.trapezoid(b_g_int,x)
    bg=integrate.quad(b_g_integration,M_i,M_f)[0]
    
    b_g=(1/ng)*bg

    return b_g*b_g*lin
   ]
  },
  {
   "cell_type": "code",
   "execution_count": 14,
   "id": "ba3e5f97",
   "metadata": {},
   "outputs": [],
   "source": [
    "'''\n",
    "The following function is the projection of P_g 2 halo terms onto 2 dimensional sky using the Limber's approximation,\n",
    "and it integrates with respect to the redshift instead of the comoving distance chi\n",
    "\n",
    "'''\n",
    "\n",
    "def cl_2h(l,z_i,z_f):#input the multipole l and redshifts z_i and z_f for integration\n",
    "    \n",
    "    #set the constants\n",
    "    h=0.7\n",
    "    omega_m=0.3\n",
    "    omega_lambda=0.7\n",
    "    d_h=3000/h\n",
    "    N=43182 #total number of the galaxies in 2MRS catalog (unmasked)\n",
    "    beta=1.64\n",
    "    m_0=1.31\n",
    "    z_0=0.0266\n",
    "\n",
    "    def test(z):\n",
    "        chi=float(cs.comoving_distance(z)/u.Mpc)\n",
    "        dlndz=(N*beta/(z_0*gamma((m_0+1)/beta))*(z/z_0)**m_0*np.exp(-(z/z_0)**beta))/N\n",
    "        dchidz=d_h/np.sqrt(omega_m*(1+z)**3+omega_lambda)\n",
    "        w_g=dlndz/dchidz\n",
    "        k=l/chi\n",
    "        \n",
    "        return 1/(chi**2)*w_g**2*dchidz*P_g_2h(z,k,M_i,M_f,M_min,M_1,alpha,r_max)\n",
    "\n",
    "    x = np.linspace(z_i, z_f, num=10)\n",
    "    y = np.array([test(ki) for ki in x])\n",
    "    cl_array=integrate.cumtrapz(y, x)\n",
    "    cl= cl_array[-1]-cl_array[0]\n",
    "\n",
    "    return cl"
   ]
  },
  {
   "cell_type": "code",
   "execution_count": null,
   "id": "e8415f5a",
   "metadata": {},
   "outputs": [],
   "source": [
    "#generate the data points for 2 halo term\n",
    "\n",
    "M_i=10**10\n",
    "M_f=10**16\n",
    "M_min=10**11.84\n",
    "M_1=10**11.98\n",
    "alpha=0.84\n",
    "r_max=6.9\n",
    "\n",
    "ell=np.array([10,50,100,150,200,300,400,500,600,700,800,1000])\n",
    "cl_2_h=np.array([cl_2h(int(ki),0.005,0.3) for ki in ell])"
   ]
  },
  {
   "cell_type": "code",
   "execution_count": 18,
   "id": "de70e75c",
   "metadata": {},
   "outputs": [],
   "source": [
    "# compute the 1 halo term of P_g\n",
    "\n",
    "def P_g_1h(z,k,M_i,M_f,M_min,M_1,alpha,r_max):\n",
    "    def int(M):\n",
    "        dndm=dn_dm(M,z)\n",
    "        n_sat=hod(M,M_min,M_1,alpha)[1]\n",
    "        u=u_sat(k,M,z,r_max)\n",
    "        return dndm*(2*n_sat*u+n_sat**2*(np.abs(u))**2)\n",
    "    P_g_1=(1/n_g(z,M_i,M_f,M_min,M_1,alpha)**2)*integrate.quad(int,M_i,M_f)[0]\n",
    "    return P_g_1"
   ]
  },
  {
   "cell_type": "code",
   "execution_count": 19,
   "id": "873e9be0",
   "metadata": {},
   "outputs": [],
   "source": [
    "# projection of 1 halo term using Limber's approximation\n",
    "\n",
    "def cl_1h(l,z_i,z_f):\n",
    "\n",
    "    #set some constants\n",
    "    h=0.7\n",
    "    omega_m=0.308\n",
    "    omega_lambda=0.69\n",
    "    omega_k=1-omega_m-omega_lambda\n",
    "    d_h=3000/h\n",
    "    N=43182 #total number of the galaxies in 2MRS catalog (unmasked)\n",
    "    beta=1.64\n",
    "    m_0=1.31\n",
    "    z_0=0.0266\n",
    "\n",
    "    def test(z):\n",
    "        chi=float(cs.comoving_distance(z)/u.Mpc)\n",
    "        dlndz=N*beta/(z_0*gamma((m_0+1)/beta))*(z/z_0)**m_0*np.exp(-(z/z_0)**beta)*1/N\n",
    "        dchidz=d_h/np.sqrt(omega_m*(1+z)**3+omega_k*(1+z)**2+omega_lambda)\n",
    "        w_g=dlndz/dchidz\n",
    "        k=l/chi\n",
    "        return 1/(chi**2)*w_g**2*dchidz*P_g_1h(z,k,M_i,M_f,M_min,M_1,alpha,r_max)\n",
    "\n",
    "    x = np.linspace(z_i, z_f, num=10)\n",
    "    y = np.array([test(ki) for ki in x])\n",
    "    cl_array=integrate.cumtrapz(y, x)\n",
    "    cl= cl_array[-1]-cl_array[0]\n",
    "\n",
    "    return cl"
   ]
  },
  {
   "cell_type": "code",
   "execution_count": null,
   "id": "918ae5c8",
   "metadata": {},
   "outputs": [],
   "source": [
    "#generate the data points for 1 halo term\n",
    "\n",
    "M_i=10**10\n",
    "M_f=10**16\n",
    "M_min=10**11.84\n",
    "M_1=10**11.98\n",
    "alpha=0.84\n",
    "r_max=6.9\n",
    "\n",
    "ell=np.array([10,50,100,150,200,300,400,500,600,700,800,1000])\n",
    "cl_1_halo=np.array([cl_1h(int(ki),0.0001,0.03) for ki in ell])"
   ]
  },
  {
   "cell_type": "code",
   "execution_count": 30,
   "id": "92ede742",
   "metadata": {},
   "outputs": [
    {
     "data": {
      "image/png": "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\n",
      "text/plain": [
       "<Figure size 432x288 with 1 Axes>"
      ]
     },
     "metadata": {
      "needs_background": "light"
     },
     "output_type": "display_data"
    }
   ],
   "source": [
    "# plot both the 2-halo term and 1-halo term into the plot\n",
    "\n",
    "plt.figure()\n",
    "plt.xlabel(r'$l$')\n",
    "plt.ylabel(r'$lC_l$')\n",
    "plt.plot(ell,cl_2_h*ell,label='2-halo term')\n",
    "plt.plot(ell,cl_1_halo*ell,label='1-halo term')\n",
    "plt.plot(ell,(cl_2_h+cl_1_halo)*ell,label='Total')\n",
    "plt.legend()\n",
    "plt.show()"
   ]
  },
  {
   "cell_type": "code",
   "execution_count": null,
   "id": "a795aabf",
   "metadata": {},
   "outputs": [],
   "source": []
  },
  {
   "cell_type": "code",
   "execution_count": null,
   "id": "f1c982ed",
   "metadata": {},
   "outputs": [],
   "source": []
  }
 ],
 "metadata": {
  "kernelspec": {
   "display_name": "Python 3 (ipykernel)",
   "language": "python",
   "name": "python3"
  },
  "language_info": {
   "codemirror_mode": {
    "name": "ipython",
    "version": 3
   },
   "file_extension": ".py",
   "mimetype": "text/x-python",
   "name": "python",
   "nbconvert_exporter": "python",
   "pygments_lexer": "ipython3",
   "version": "3.7.10"
  }
 },
 "nbformat": 4,
 "nbformat_minor": 5
}
