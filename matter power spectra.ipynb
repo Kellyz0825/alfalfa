{
 "cells": [
  {
   "cell_type": "code",
   "execution_count": 180,
   "id": "7d76e043",
   "metadata": {},
   "outputs": [],
   "source": [
    "from classy import Class\n",
    "import numpy as np\n",
    "import scipy\n",
    "\n",
    "\n",
    "import matplotlib.pylab as plt\n",
    "\n",
    "from colossus.cosmology import cosmology\n",
    "from colossus.lss import mass_function\n",
    "import scipy.integrate as integrate\n"
   ]
  },
  {
   "cell_type": "code",
   "execution_count": 181,
   "id": "a3731a14",
   "metadata": {},
   "outputs": [],
   "source": [
    "#Start by specifying the cosmology\n",
    "Omega_b = 0.05\n",
    "Omega_m = 0.3\n",
    "Omega_cdm = Omega_m - Omega_b\n",
    "h = 0.7 #H0/100\n",
    "A_s = 2.1e-9\n",
    "n_s = 0.96\n",
    "\n",
    "\n",
    "#Create a params dictionary\n",
    "\n",
    "k_max = 0.001 #UNITS: 1/Mpc\n",
    "\n",
    "params = {\n",
    "             'output':'mPk',\n",
    "             'non linear':'halofit',\n",
    "             'Omega_b':Omega_b,\n",
    "             'Omega_cdm':Omega_cdm,\n",
    "             'h':h,\n",
    "             'A_s':A_s,\n",
    "             'n_s':n_s,\n",
    "             'P_k_max_1/Mpc':k_max,\n",
    "             'z_max_pk':0.05\n",
    "}\n",
    "\n",
    "#Initialize the cosmology andcompute everything\n",
    "cosmo = Class()\n",
    "cosmo.set(params)\n",
    "cosmo.compute()\n",
    "\n",
    "#Specify k and z\n",
    "k = np.logspace(0, np.log10(k_max), num=1000) #Mpc^-1\n",
    "z = 0.1\n",
    "\n",
    "#Calculate the linear matter power spectra\n",
    "Plin = np.array([cosmo.pk_lin(ki, z) for ki in k])\n",
    "\n",
    "#convert these to h/Mpc and (Mpc/h)^3\n",
    "k /= h\n",
    "Plin *= h**3"
   ]
  },
  {
   "cell_type": "code",
   "execution_count": 182,
   "id": "c963c6d7",
   "metadata": {},
   "outputs": [
    {
     "data": {
      "image/png": "[encoded data removed]",
      "text/plain": [
       "<Figure size 432x288 with 1 Axes>"
      ]
     },
     "metadata": {
      "needs_background": "light"
     },
     "output_type": "display_data"
    }
   ],
   "source": [
    "plt.figure()\n",
    "plt.xlabel(r'$k\\,\\ [h Mpc^{-1}]$')\n",
    "plt.ylabel(r'$P(k)\\,\\ [Mpc^3 h^{-3}]$')\n",
    "plt.plot(k,Plin)\n",
    "plt.xscale(\"log\")\n",
    "plt.yscale(\"log\")"
   ]
  },
  {
   "cell_type": "code",
   "execution_count": 183,
   "id": "732d374d",
   "metadata": {},
   "outputs": [],
   "source": [
    "#set constants \n",
    "M=10**14\n",
    "z=0.1"
   ]
  },
  {
   "cell_type": "code",
   "execution_count": 184,
   "id": "8cf9e23d",
   "metadata": {},
   "outputs": [],
   "source": [
    "#estimate dndm\n",
    "cosmology.setCosmology('WMAP9')\n",
    "dndm = mass_function.massFunction(M, z, mdef = 'vir', model = 'tinker08')"
   ]
  },
  {
   "cell_type": "code",
   "execution_count": 185,
   "id": "8db0fd59",
   "metadata": {},
   "outputs": [
    {
     "name": "stdout",
     "output_type": "stream",
     "text": [
      "0.19153762333178637\n"
     ]
    }
   ],
   "source": [
    "print(dndm)"
   ]
  },
  {
   "cell_type": "code",
   "execution_count": 186,
   "id": "b06450a0",
   "metadata": {},
   "outputs": [],
   "source": [
    "#estimate b_1, the linear halo bias of Tinker 2010\n",
    "from colossus.lss import bias\n",
    "b_1 = bias.haloBias(M, z,mdef='vir',model='tinker10')"
   ]
  },
  {
   "cell_type": "code",
   "execution_count": 187,
   "id": "b01e2cc7",
   "metadata": {},
   "outputs": [
    {
     "name": "stdout",
     "output_type": "stream",
     "text": [
      "2.3569485855303456\n"
     ]
    }
   ],
   "source": [
    "print(b_1)"
   ]
  },
  {
   "cell_type": "code",
   "execution_count": 188,
   "id": "99ca26be",
   "metadata": {},
   "outputs": [],
   "source": [
    "#estimate  radial distribution of satellite galaxies in a halo (NFW profile)\n",
    "def u_sat(r_s,r_max,k,M):\n",
    "    \n",
    "    def int(r):\n",
    "        return 4*np.pi*r**2*1/((r/r_s)*(r/r_s+1)**2)*np.heaviside(r_max-r,0)*np.sin(k*r)/(k*r)\n",
    "    \n",
    "    u=1/M*integrate.quad(int,0,r_s)[0]\n",
    "    return u"
   ]
  },
  {
   "cell_type": "code",
   "execution_count": 189,
   "id": "13bd059c",
   "metadata": {},
   "outputs": [
    {
     "name": "stdout",
     "output_type": "stream",
     "text": [
      "2.265828372622493\n"
     ]
    }
   ],
   "source": [
    "print(u_sat(1,1,1,1))"
   ]
  },
  {
   "cell_type": "code",
   "execution_count": 190,
   "id": "985268d4",
   "metadata": {},
   "outputs": [
    {
     "name": "stdout",
     "output_type": "stream",
     "text": [
      "0.6666666666666666\n"
     ]
    }
   ],
   "source": [
    "#estimate the HOD values\n",
    "from scipy import special\n",
    "\n",
    "def hod(M,M_min,M_1,alpha):\n",
    "    #define some constants according to the paper\n",
    "    sd_log_M=0.15\n",
    "    M_0=M_min\n",
    "    \n",
    "    N_cen=1/2*(1+special.erf((np.log(M)-np.log(M_min))/sd_log_M)) #number of central galaxies\n",
    "    \n",
    "    N_sat=((M-M_0)/M_1)**alpha*np.heaviside(M-M_0,0) #number of satellite galaxies\n",
    "    \n",
    "    return N_cen,N_sat\n",
    "\n",
    "print(hod(5,3,3,1)[1])"
   ]
  },
  {
   "cell_type": "code",
   "execution_count": 191,
   "id": "1a81d059",
   "metadata": {},
   "outputs": [],
   "source": [
    "#compute the mean number of density of galaxies\n",
    "\n",
    "def n_g(z,M_i,M_f,M_min,M_1,alpha):\n",
    "    def int(M):\n",
    "        cosmology.setCosmology('WMAP9')\n",
    "        return mass_function.massFunction(M, z, mdef = 'vir', model = 'tinker08')*(hod(M,M_min,M_1,alpha)[0]+hod(M,M_min,M_1,alpha)[1])\n",
    "    return integrate.quad(int,M_i,M_f)[0]"
   ]
  },
  {
   "cell_type": "code",
   "execution_count": 192,
   "id": "24269676",
   "metadata": {},
   "outputs": [],
   "source": [
    "#compute the scale-dependent galaxy bias\n",
    "\n",
    "def b_g(z,k,M_i,M_f,M_min,M_1,alpha,r_s,r_max):\n",
    "    def b_g_integration(M):\n",
    "        return mass_function.massFunction(M, z, mdef = 'vir', model = 'tinker08')*(hod(M,M_min,M_1,alpha)[0]+hod(M,M_min,M_1,alpha)[1]*u_sat(r_s,r_max,k,M))*bias.haloBias(M, z,mdef='vir',model='tinker10')\n",
    "    \n",
    "    #calculation of scale-dependent galaxy bias\n",
    "    b_g=(1/n_g(z,M_i,M_f,M_min,M_1,alpha))*(integrate.quad(b_g_integration,M_i,M_f)[0])\n",
    "        \n",
    "    return b_g"
   ]
  },
  {
   "cell_type": "code",
   "execution_count": null,
   "id": "b4d58e68",
   "metadata": {},
   "outputs": [],
   "source": []
  },
  {
   "cell_type": "code",
   "execution_count": 193,
   "id": "c3ce6ec1",
   "metadata": {},
   "outputs": [],
   "source": [
    "#define the 2 halo term function\n",
    "        \n",
    "\n",
    "def P_g_2h(z,k_arr,M_i,M_f,M_min,M_1,alpha,r_s,r_max): #input k as an array\n",
    "    P_2h=np.array([])\n",
    "    for ki in k:\n",
    "        P_2h=np.append(P_2h,b_g(z,ki*h,M_i,M_f,M_min,M_1,alpha,r_s,r_max)**2*(cosmo.pk_lin(ki, z)*h**3))\n",
    "    \n",
    "    return P_2h"
   ]
  },
  {
   "cell_type": "code",
   "execution_count": 194,
   "id": "755a07ad",
   "metadata": {},
   "outputs": [],
   "source": [
    "z=0.1\n",
    "k_arr = np.logspace(0, np.log10(0.001), num=1000)\n",
    "M_i=10**14\n",
    "M_f=10**15\n",
    "M_min=10**11.84\n",
    "M_1=10*11.98\n",
    "alpha=0.84\n",
    "r_s=0.62\n",
    "r_max=6.9\n",
    "\n",
    "P_g_2=P_g_2h(z,k_arr,M_i,M_f,M_min,M_1,alpha,r_s,r_max)"
   ]
  },
  {
   "cell_type": "code",
   "execution_count": 195,
   "id": "8dae02cd",
   "metadata": {},
   "outputs": [
    {
     "data": {
      "image/png": "[encoded data removed]",
      "text/plain": [
       "<Figure size 432x288 with 1 Axes>"
      ]
     },
     "metadata": {
      "needs_background": "light"
     },
     "output_type": "display_data"
    }
   ],
   "source": [
    "plt.figure()\n",
    "plt.xlabel(r'$k\\,\\ [h Mpc^{-1}]$')\n",
    "plt.ylabel(r'$P_g^{2h}(k)\\,\\ [Mpc^3 h^{-3}]$')\n",
    "plt.plot(k_arr,P_g_2)\n",
    "plt.xscale(\"log\")\n",
    "plt.yscale(\"log\")"
   ]
  },
  {
   "cell_type": "code",
   "execution_count": 196,
   "id": "57a1ddc6",
   "metadata": {},
   "outputs": [],
   "source": [
    "def P_g_1h(z,k_arr,M_i,M_f,M_min,M_1,alpha,r_s,r_max): #input k as an array\n",
    "    def int(M):\n",
    "        dndm=mass_function.massFunction(M, z, mdef = 'vir', model = 'tinker08')\n",
    "        n_sat=hod(M,M_min,M_1,alpha)[1]\n",
    "        u=u_sat(r_s,r_max,k,M)\n",
    "        return dndm*(2*n_sat*u+n_sat**2*(np.abs(u))**2)**2\n",
    "    P_g_1=np.array([])\n",
    "    for ki in k_arr:\n",
    "        k=ki*h\n",
    "        P_g_1=np.append(P_g_1,1/n_g(z,M_i,M_f,M_min,M_1,alpha)**2*integrate.quad(int,M_i,M_f)[0])\n",
    "    return P_g_1"
   ]
  },
  {
   "cell_type": "code",
   "execution_count": 197,
   "id": "1658a211",
   "metadata": {},
   "outputs": [],
   "source": [
    "z=0.1\n",
    "k_arr = np.logspace(0, np.log10(0.001), num=1000)\n",
    "M_i=10**14\n",
    "M_f=10**15\n",
    "M_min=10**11.84\n",
    "M_1=10*11.98\n",
    "alpha=0.84\n",
    "r_s=0.62\n",
    "r_max=6.9\n",
    "\n",
    "P_g_1=P_g_1h(z,k_arr,M_i,M_f,M_min,M_1,alpha,r_s,r_max)"
   ]
  },
  {
   "cell_type": "code",
   "execution_count": 198,
   "id": "5a75fea6",
   "metadata": {},
   "outputs": [
    {
     "data": {
      "image/png": "[encoded data removed]",
      "text/plain": [
       "<Figure size 432x288 with 1 Axes>"
      ]
     },
     "metadata": {
      "needs_background": "light"
     },
     "output_type": "display_data"
    }
   ],
   "source": [
    "plt.figure()\n",
    "plt.xlabel(r'$k\\,\\ [h Mpc^{-1}]$')\n",
    "plt.ylabel(r'$P_g^{1h}(k)\\,\\ [Mpc^3 h^{-3}]$')\n",
    "plt.plot(k_arr,P_g_1)\n",
    "plt.xscale(\"log\")\n",
    "plt.yscale(\"log\")"
   ]
  },
  {
   "cell_type": "code",
   "execution_count": 199,
   "id": "673a3b25",
   "metadata": {},
   "outputs": [
    {
     "data": {
      "image/png": "[encoded data removed]",
      "text/plain": [
       "<Figure size 432x288 with 1 Axes>"
      ]
     },
     "metadata": {
      "needs_background": "light"
     },
     "output_type": "display_data"
    }
   ],
   "source": [
    "plt.figure()\n",
    "plt.xlabel(r'$k\\,\\ [h Mpc^{-1}]$')\n",
    "plt.ylabel(r'$P_g(k)\\,\\ [Mpc^3 h^{-3}]$')\n",
    "plt.plot(k_arr,P_g_1+P_g_2)\n",
    "plt.xscale(\"log\")\n",
    "plt.yscale(\"log\")"
   ]
  },
  {
   "cell_type": "code",
   "execution_count": null,
   "id": "48ab73d8",
   "metadata": {},
   "outputs": [],
   "source": [
    "#projection of power spectrum onto two dimensional sky\n",
    "\n",
    "def proj(p,x_i,x_f):#where p is the power spectrum, array\n",
    "    def int(x):\n",
    "        return 1/x^2*w_g**2*p(l/x,z)\n",
    "    c_l=integrate.quad(int,x_i,x_f)"
   ]
  }
 ],
 "metadata": {
  "kernelspec": {
   "display_name": "Python 3 (ipykernel)",
   "language": "python",
   "name": "python3"
  },
  "language_info": {
   "codemirror_mode": {
    "name": "ipython",
    "version": 3
   },
   "file_extension": ".py",
   "mimetype": "text/x-python",
   "name": "python",
   "nbconvert_exporter": "python",
   "pygments_lexer": "ipython3",
   "version": "3.7.10"
  }
 },
 "nbformat": 4,
 "nbformat_minor": 5
}
